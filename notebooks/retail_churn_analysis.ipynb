```python
{
 "cells": [
  {
   "cell_type": "markdown",
   "metadata": {},
   "source": [
    "# Retail Customer Churn Analysis\n",
    "## Comprehensive Analysis of Customer Behavior and Churn Risk\n",
    "\n",
    "This notebook demonstrates the analysis of retail customer churn using:\n",
    "- Customer purchase patterns\n",
    "- Browsing behavior\n",
    "- Customer service interactions\n",
    "- Return rates\n",
    "- Customer segmentation"
   ]
  },
  {
   "cell_type": "code",
   "execution_count": null,
   "metadata": {},
   "source": [
    "import pandas as pd\n",
    "import numpy as np\n",
    "import matplotlib.pyplot as plt\n",
    "import seaborn as sns\n",
    "from datetime import datetime, timedelta\n",
    "\n",
    "# Set plotting style\n",
    "plt.style.use('seaborn')\n",
    "sns.set_palette(\"husl\")\n",
    "\n",
    "# Import our data generator\n",
    "from src.data_generator import RetailChurnDataGenerator"
   ]
  },
  {
   "cell_type": "markdown",
   "metadata": {},
   "source": [
    "## 1. Data Generation and Loading"
   ]
  },
  {
   "cell_type": "code",
   "execution_count": null,
   "metadata": {},
   "source": [
    "# Initialize data generator\n",
    "generator = RetailChurnDataGenerator(\n",
    "    start_date='2023-01-01',\n",
    "    end_date='2023-12-31',\n",
    "    num_customers=1000\n",
    ")\n",
    "\n",
    "# Generate datasets\n",
    "data = generator.generate_complete_dataset()\n",
    "\n",
    "# Access individual datasets\n",
    "customer_profiles = data['customer_profiles']\n",
    "purchase_history = data['purchase_history']\n",
    "browsing_behavior = data['browsing_behavior']\n",
    "customer_service = data['customer_service']\n",
    "churn_labels = data['churn_labels']"
   ]
  },
  {
   "cell_type": "markdown",
   "metadata": {},
   "source": [
    "## 2. Initial Data Exploration"
   ]
  },
  {
   "cell_type": "code",
   "execution_count": null,
   "metadata": {},
   "source": [
    "# Customer Segments Distribution\n",
    "plt.figure(figsize=(10, 6))\n",
    "sns.countplot(data=customer_profiles, x='segment')\n",
    "plt.title('Distribution of Customer Segments')\n",
    "plt.xticks(rotation=45)\n",
    "plt.show()\n",
    "\n",
    "# Display segment percentages\n",
    "segment_dist = customer_profiles['segment'].value_counts(normalize=True).round(3) * 100\n",
    "print(\"\\nCustomer Segment Distribution:\")\n",
    "for segment, percentage in segment_dist.items():\n",
    "    print(f\"{segment}: {percentage:.1f}%\")"
   ]
  },
  {
   "cell_type": "markdown",
   "metadata": {},
   "source": [
    "## 3. Purchase Pattern Analysis"
   ]
  },
  {
   "cell_type": "code",
   "execution_count": null,
   "metadata": {},
   "source": [
    "# Calculate purchase metrics by segment\n",
    "purchase_metrics = purchase_history.merge(customer_profiles[['customer_id', 'segment']])\n",
    "\n",
    "segment_metrics = purchase_metrics.groupby('segment').agg({\n",
    "    'amount': ['count', 'mean', 'sum'],\n",
    "    'is_returned': 'mean'\n",
    "}).round(2)\n",
    "\n",
    "segment_metrics.columns = ['purchase_count', 'avg_purchase', 'total_revenue', 'return_rate']\n",
    "print(\"\\nSegment Purchase Metrics:\")\n",
    "print(segment_metrics)\n",
    "\n",
    "# Visualize average purchase amount by segment\n",
    "plt.figure(figsize=(10, 6))\n",
    "sns.boxplot(data=purchase_metrics, x='segment', y='amount')\n",
    "plt.title('Purchase Amount Distribution by Segment')\n",
    "plt.xticks(rotation=45)\n",
    "plt.show()"
   ]
  },
  {
   "cell_type": "markdown",
   "metadata": {},
   "source": [
    "## 4. Browsing Behavior Analysis"
   ]
  },
  {
   "cell_type": "code",
   "execution_count": null,
   "metadata": {},
   "source": [
    "# Analyze browsing patterns\n",
    "browse_metrics = browsing_behavior.merge(customer_profiles[['customer_id', 'segment']])\n",
    "\n",
    "# Calculate average engagement metrics by segment\n",
    "engagement_metrics = browse_metrics.groupby('segment').agg({\n",
    "    'pages_viewed': ['mean', 'median'],\n",
    "    'session_duration': ['mean', 'median'],\n",
    "    'customer_id': 'count'\n",
    "}).round(2)\n",
    "\n",
    "print(\"\\nBrowsing Engagement by Segment:\")\n",
    "print(engagement_metrics)\n",
    "\n",
    "# Visualize device usage by segment\n",
    "plt.figure(figsize=(12, 6))\n",
    "device_dist = pd.crosstab(browse_metrics['segment'], browse_metrics['device'], normalize='index')\n",
    "device_dist.plot(kind='bar', stacked=True)\n",
    "plt.title('Device Usage by Segment')\n",
    "plt.legend(title='Device')\n",
    "plt.tight_layout()\n",
    "plt.show()"
   ]
  },
  {
   "cell_type": "markdown",
   "metadata": {},
   "source": [
    "## 5. Customer Service Analysis"
   ]
  },
  {
   "cell_type": "code",
   "execution_count": null,
   "metadata": {},
   "source": [
    "# Analyze customer service interactions\n",
    "service_metrics = customer_service.merge(customer_profiles[['customer_id', 'segment']])\n",
    "\n",
    "# Calculate service metrics by segment\n",
    "service_summary = service_metrics.groupby('segment').agg({\n",
    "    'resolution_time_hours': ['mean', 'median'],\n",
    "    'satisfaction_score': ['mean', 'count']\n",
    "}).round(2)\n",
    "\n",
    "print(\"\\nCustomer Service Metrics by Segment:\")\n",
    "print(service_summary)\n",
    "\n",
    "# Visualize interaction types by segment\n",
    "plt.figure(figsize=(12, 6))\n",
    "interaction_dist = pd.crosstab(service_metrics['segment'], service_metrics['interaction_type'])\n",
    "interaction_dist.plot(kind='bar', stacked=True)\n",
    "plt.title('Interaction Types by Segment')\n",
    "plt.legend(title='Interaction Type')\n",
    "plt.tight_layout()\n",
    "plt.show()"
   ]
  },
  {
   "cell_type": "markdown",
   "metadata": {},
   "source": [
    "## 6. Churn Risk Analysis"
   ]
  },
  {
   "cell_type": "code",
   "execution_count": null,
   "metadata": {},
   "source": [
    "# Analyze churn patterns\n",
    "churn_analysis = churn_labels.merge(\n",
    "    customer_profiles[['customer_id', 'segment']]\n",
    ")\n",
    "\n",
    "# Calculate churn rate by segment\n",
    "churn_rates = pd.crosstab(churn_analysis['segment'], churn_analysis['is_churned'], \n",
    "                         normalize='index').round(3) * 100\n",
    "\n",
    "print(\"\\nChurn Rates by Segment:\")\n",
    "print(churn_rates)\n",
    "\n",
    "# Visualize churn rates\n",
    "plt.figure(figsize=(10, 6))\n",
    "churn_rates[True].plot(kind='bar')\n",
    "plt.title('Churn Rate by Segment')\n",
    "plt.ylabel('Churn Rate (%)')\n",
    "plt.xlabel('Segment')\n",
    "plt.tight_layout()\n",
    "plt.show()"
   ]
  },
  {
   "cell_type": "markdown",
   "metadata": {},
   "source": [
    "## 7. Revenue Impact Analysis"
   ]
  },
  {
   "cell_type": "code",
   "execution_count": null,
   "metadata": {},
   "source": [
    "# Calculate revenue impact of churn\n",
    "revenue_impact = purchase_metrics.merge(churn_labels[['customer_id', 'is_churned']])\n",
    "\n",
    "# Calculate metrics for churned vs retained customers\n",
    "revenue_summary = revenue_impact.groupby(['segment', 'is_churned']).agg({\n",
    "    'amount': ['count', 'sum', 'mean']\n",
    "}).round(2)\n",
    "\n",
    "print(\"\\nRevenue Impact of Churn:\")\n",
    "print(revenue_summary)\n",
    "\n",
    "# Visualize revenue at risk\n",
    "churned_revenue = revenue_impact[revenue_impact['is_churned']].groupby('segment')['amount'].sum()\n",
    "plt.figure(figsize=(10, 6))\n",
    "churned_revenue.plot(kind='bar')\n",
    "plt.title('Revenue at Risk by Segment')\n",
    "plt.ylabel('Revenue ($)')\n",
    "plt.tight_layout()\n",
    "plt.show()"
   ]
  },
  {
   "cell_type": "markdown",
   "metadata": {},
   "source": [
    "## 8. Recommendations and Actions"
   ]
  },
  {
   "cell_type": "code",
   "execution_count": null,
   "metadata": {},
   "source": [
    "# Generate segment-specific recommendations\n",
    "def generate_recommendations(segment_metrics, churn_rates, revenue_summary):\n",
    "    recommendations = []\n",
    "    \n",
    "    for segment in segment_metrics.index:\n",
    "        churn_rate = churn_rates.loc[segment, True]\n",
    "        avg_value = segment_metrics.loc[segment, 'avg_purchase']\n",
    "        return_rate = segment_metrics.loc[segment, 'return_rate']\n",
    "        \n",
    "        rec = {\n",
    "            'segment': segment,\n",
    "            'churn_rate': f\"{churn_rate:.1f}%\",\n",
    "            'avg_value': f\"${avg_value:.2f}\",\n",
    "            'return_rate': f\"{return_rate*100:.1f}%\"\n",
    "        }\n",
    "        \n",
    "        # Add specific recommendations\n",
    "        if churn_rate > 30:\n",
    "            rec['priority'] = 'High'\n",
    "            rec['actions'] = ['Immediate outreach', 'Special retention offer', 'Satisfaction survey']\n",
    "        elif churn_rate > 20:\n",
    "            rec['priority'] = 'Medium'\n",
    "            rec['actions'] = ['Targeted promotion', 'Engagement campaign', 'Product recommendations']\n",
    "        else:\n",
    "            rec['priority'] = 'Low'\n",
    "            rec['actions'] = ['Regular engagement', 'Loyalty rewards', 'Feedback collection']\n",
    "            \n",
    "        recommendations.append(rec)\n",
    "    \n",
    "    return pd.DataFrame(recommendations)\n",
    "\n",
    "recommendations_df = generate_recommendations(segment_metrics, churn_rates, revenue_summary)\n",
    "print(\"\\nSegment Recommendations:\")\n",
    "print(recommendations_df)"
   ]
  }
 ]
}
```
